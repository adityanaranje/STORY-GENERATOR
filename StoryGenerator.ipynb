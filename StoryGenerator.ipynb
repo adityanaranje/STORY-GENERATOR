{
 "cells": [
  {
   "cell_type": "code",
   "execution_count": null,
   "id": "8495fc86",
   "metadata": {},
   "outputs": [],
   "source": [
    "import pandas as pd\n",
    "from tqdm import tqdm\n",
    "tqdm.pandas()"
   ]
  },
  {
   "cell_type": "code",
   "execution_count": 2,
   "id": "4cefb91c",
   "metadata": {},
   "outputs": [],
   "source": [
    "import os\n",
    "from dotenv import load_dotenv\n",
    "load_dotenv()\n",
    "from langchain_groq import ChatGroq\n",
    "\n",
    "GROQ_API_KEY = os.getenv(\"STORY_API\")"
   ]
  },
  {
   "cell_type": "code",
   "execution_count": 4,
   "id": "6a79377c",
   "metadata": {},
   "outputs": [],
   "source": [
    "llm = ChatGroq(\n",
    "    model = \"llama3-70b-8192\",\n",
    "    groq_api_key = GROQ_API_KEY,\n",
    "    temperature=0\n",
    ")"
   ]
  },
  {
   "cell_type": "code",
   "execution_count": 10,
   "id": "15bd26a7",
   "metadata": {},
   "outputs": [],
   "source": [
    "from langchain_core.prompts import PromptTemplate\n",
    "prompt_extract = PromptTemplate.from_template(\n",
    "        \"\"\"\n",
    "        ### INSTRUCTIONS\n",
    "        You are a creative fiction writer.\n",
    "        Your task is to write a 500-word short story in the **{selected_genre}** genre.\n",
    "        Here is the starting line provided:\n",
    "        \"{starting_line}\"\n",
    "        If the starting line is appropriate and usable, continue the story directly from it.\n",
    "        If the starting line is vague, unclear, or inappropriate for storytelling, use it only as inspiration and rewrite it creatively in a way that fits the selected genre.\n",
    "        The final story should:\n",
    "        - Be approximately {story_length} words long\n",
    "        - Match the tone and conventions of the selected genre\n",
    "        - Include characters, setting, conflict, and resolution or an open ending typical of short stories\n",
    "        - Flow naturally and feel complete on its own\n",
    "        Now write the story and generate a appropriate title upto 7-8 words for story.\n",
    "        Give the title and story in json format\n",
    "        ### VALID JSON (NO PREAMBLE):\n",
    "        \"\"\"\n",
    "    )\n",
    "chain_extract = prompt_extract | llm"
   ]
  },
  {
   "cell_type": "code",
   "execution_count": 11,
   "id": "e278892b",
   "metadata": {},
   "outputs": [],
   "source": [
    "def extract_genre(starting_line,selected_genre, story_length):  \n",
    "    res = chain_extract.invoke(input={\"starting_line\":starting_line,\"selected_genre\":selected_genre,\"story_length\":story_length})\n",
    "    return res.content"
   ]
  },
  {
   "cell_type": "code",
   "execution_count": null,
   "id": "9f44ab7b",
   "metadata": {},
   "outputs": [],
   "source": [
    "story_line = input(\"Give starting line : \")\n",
    "selected_genre = input(\"Give Genre: \")\n",
    "story_length = int(input(\"Enter length of story: \"))\n",
    "\n",
    "response = extract_genre(story_line, selected_genre, story_length)"
   ]
  },
  {
   "cell_type": "code",
   "execution_count": null,
   "id": "c2132680",
   "metadata": {},
   "outputs": [
    {
     "data": {
      "text/plain": [
       "'{\\n\"title\": \"A Town\\'s Secret: Love and Redemption Unfold\",\\n\"story\": \"There was a boy and girl in town a long time ago, their love was forbidden, yet they couldn\\'t resist each other. The boy, Jake, was from the wealthy side of town, while the girl, Emily, was from the poor side. Their families had been sworn enemies for generations, and their love was seen as a betrayal.\\n\\nDespite the danger, they continued to see each other in secret, exchanging love letters and stolen glances. But their love was not without consequences. Emily\\'s brother, a hot-headed young man, discovered their affair and vowed to put an end to it.\\n\\nOne fateful night, Jake and Emily decided to run away together, but they were caught by Emily\\'s brother and his friends. In the ensuing fight, Jake was left for dead, and Emily was forced to return to her family.\\n\\nYears went by, and the town whispered about the star-crossed lovers. Emily\\'s brother, consumed by guilt and shame, became a recluse, unable to face the world. Emily, heartbroken and alone, dedicated her life to helping the poor and needy, hoping to find redemption for her family\\'s past mistakes.\\n\\nJake, miraculously, survived the attack, but the experience left him with a permanent scar above his left eyebrow. He changed his name and moved to a different town, where he became a successful businessman. However, he never forgot Emily and the love they shared.\\n\\nOne day, Jake received a letter from Emily, inviting him to return to their hometown. She had inherited a large sum of money and wanted to use it to build a hospital for the poor. Jake, still in love with Emily, returned to the town, and they were reunited.\\n\\nAs they stood together, looking out at the town they once called home, they knew that their love had been the catalyst for change. Emily\\'s brother, who had been watching from afar, finally found the courage to apologize and make amends.\\n\\nThe town, once divided by wealth and social status, began to heal. Jake and Emily\\'s love had brought redemption, and their story would be told for generations to come as a reminder that true love can conquer even the darkest of pasts.\"\\n}'"
      ]
     },
     "execution_count": 15,
     "metadata": {},
     "output_type": "execute_result"
    }
   ],
   "source": [
    "response"
   ]
  },
  {
   "cell_type": "code",
   "execution_count": null,
   "id": "ba858b48",
   "metadata": {},
   "outputs": [
    {
     "data": {
      "text/plain": [
       "{'title': \"A Town's Secret: Love and Redemption Unfold\",\n",
       " 'story': \"There was a boy and girl in town a long time ago, their love was forbidden, yet they couldn't resist each other. The boy, Jake, was from the wealthy side of town, while the girl, Emily, was from the poor side. Their families had been sworn enemies for generations, and their love was seen as a betrayal.\\n\\nDespite the danger, they continued to see each other in secret, exchanging love letters and stolen glances. But their love was not without consequences. Emily's brother, a hot-headed young man, discovered their affair and vowed to put an end to it.\\n\\nOne fateful night, Jake and Emily decided to run away together, but they were caught by Emily's brother and his friends. In the ensuing fight, Jake was left for dead, and Emily was forced to return to her family.\\n\\nYears went by, and the town whispered about the star-crossed lovers. Emily's brother, consumed by guilt and shame, became a recluse, unable to face the world. Emily, heartbroken and alone, dedicated her life to helping the poor and needy, hoping to find redemption for her family's past mistakes.\\n\\nJake, miraculously, survived the attack, but the experience left him with a permanent scar above his left eyebrow. He changed his name and moved to a different town, where he became a successful businessman. However, he never forgot Emily and the love they shared.\\n\\nOne day, Jake received a letter from Emily, inviting him to return to their hometown. She had inherited a large sum of money and wanted to use it to build a hospital for the poor. Jake, still in love with Emily, returned to the town, and they were reunited.\\n\\nAs they stood together, looking out at the town they once called home, they knew that their love had been the catalyst for change. Emily's brother, who had been watching from afar, finally found the courage to apologize and make amends.\\n\\nThe town, once divided by wealth and social status, began to heal. Jake and Emily's love had brought redemption, and their story would be told for generations to come as a reminder that true love can conquer even the darkest of pasts.\"}"
      ]
     },
     "execution_count": 18,
     "metadata": {},
     "output_type": "execute_result"
    }
   ],
   "source": [
    "from langchain_core.output_parsers import JsonOutputParser\n",
    "\n",
    "json_parser = JsonOutputParser()\n",
    "res = json_parser.parse(response)\n",
    "res\n",
    "\n"
   ]
  },
  {
   "cell_type": "code",
   "execution_count": 20,
   "id": "ee7807c0",
   "metadata": {},
   "outputs": [
    {
     "data": {
      "text/plain": [
       "\"A Town's Secret: Love and Redemption Unfold\""
      ]
     },
     "execution_count": 20,
     "metadata": {},
     "output_type": "execute_result"
    }
   ],
   "source": [
    "res['title']"
   ]
  },
  {
   "cell_type": "code",
   "execution_count": null,
   "id": "84e5aa82",
   "metadata": {},
   "outputs": [],
   "source": []
  }
 ],
 "metadata": {
  "kernelspec": {
   "display_name": "base",
   "language": "python",
   "name": "python3"
  },
  "language_info": {
   "codemirror_mode": {
    "name": "ipython",
    "version": 3
   },
   "file_extension": ".py",
   "mimetype": "text/x-python",
   "name": "python",
   "nbconvert_exporter": "python",
   "pygments_lexer": "ipython3",
   "version": "3.12.7"
  }
 },
 "nbformat": 4,
 "nbformat_minor": 5
}
